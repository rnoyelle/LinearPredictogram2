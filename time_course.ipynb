{
 "cells": [
  {
   "cell_type": "code",
   "execution_count": 2,
   "metadata": {},
   "outputs": [],
   "source": [
    "import numpy as np\n",
    "import pandas as pd"
   ]
  },
  {
   "cell_type": "code",
   "execution_count": 11,
   "metadata": {},
   "outputs": [],
   "source": [
    "import os\n",
    "import re"
   ]
  },
  {
   "cell_type": "code",
   "execution_count": 4,
   "metadata": {},
   "outputs": [],
   "source": [
    "import matplotlib.pyplot as plt\n",
    "from mpl_toolkits.axes_grid1 import make_axes_locatable # colorbar"
   ]
  },
  {
   "cell_type": "code",
   "execution_count": 5,
   "metadata": {},
   "outputs": [],
   "source": [
    "# path where to save numpy files\n",
    "summary_path = '/home/rudy/Python2/regression_linear2/results/summary/'\n"
   ]
  },
  {
   "cell_type": "code",
   "execution_count": 7,
   "metadata": {},
   "outputs": [],
   "source": [
    "# get list of session\n",
    "session = os.listdir(summary_path)"
   ]
  },
  {
   "cell_type": "code",
   "execution_count": null,
   "metadata": {},
   "outputs": [],
   "source": [
    "#############################################################################################"
   ]
  },
  {
   "cell_type": "code",
   "execution_count": null,
   "metadata": {},
   "outputs": [],
   "source": [
    "# get dict\n",
    "def get_dico_cortex():\n",
    "    ''' dico_cortex['cortex']= list of areas in cortex '''\n",
    "\n",
    "    dico_cortex = {'Parietal': ['AIP',\n",
    "    'LIP',\n",
    "    'MIP',\n",
    "    'PIP',\n",
    "    'TPt',\n",
    "    'VIP',\n",
    "    'a23',\n",
    "    'a5',\n",
    "    'a7A',\n",
    "    'a7B',\n",
    "    'a7M',\n",
    "    'a7op'],\n",
    "    'Subcortical': ['Caudate', 'Claustrum', 'Putamen', 'Thal'],\n",
    "    'Auditory': ['Core', 'MB', 'PBr'],\n",
    "    'Visual': ['DP',\n",
    "    'FST',\n",
    "    'MST',\n",
    "    'MT',\n",
    "    'TEOM',\n",
    "    'TEO',\n",
    "    'TEpd',\n",
    "    'V1',\n",
    "    'V2',\n",
    "    'V3',\n",
    "    'V3A',\n",
    "    'V4',\n",
    "    'V4t',\n",
    "    'V6A'],\n",
    "    'Motor': ['F1', 'F2','F3' ,'F5', 'F6', 'F7'],\n",
    "    'Temporal': ['Ins', 'STPc'],\n",
    "    'Prefrontal': ['OPRO',\n",
    "    'a9',\n",
    "    'a11',\n",
    "    'a12',\n",
    "    'a13',\n",
    "    'a14',\n",
    "    'a24D',\n",
    "    'a24c',\n",
    "    'a32',\n",
    "    'a44',\n",
    "    'a45A',\n",
    "    'a45B',\n",
    "    'a46D',\n",
    "    'a46V',\n",
    "    'a8B',\n",
    "    'a8L',\n",
    "    'a8M',\n",
    "    'a8r',\n",
    "    'a9/46D',\n",
    "    'a9/46V'],\n",
    "    'Somatosensory': ['SII', 'a1', 'a2', 'a3']}\n",
    "    \n",
    "    return( dico_cortex )\n",
    "\n",
    "def get_dico_area_to_cortex():\n",
    "    \"dico[area] = cortex\"\n",
    "    \n",
    "    dico_cortex = get_dico_cortex()\n",
    "    \n",
    "    dico_area_to_cortex = {}\n",
    "    for c in dico_cortex.keys():\n",
    "        areas = dico_cortex[c]\n",
    "        for area in areas:\n",
    "            dico_area_to_cortex[area] = c\n",
    "            \n",
    "    return(dico_area_to_cortex)"
   ]
  },
  {
   "cell_type": "code",
   "execution_count": null,
   "metadata": {},
   "outputs": [],
   "source": [
    "########################################################################################################################"
   ]
  },
  {
   "cell_type": "code",
   "execution_count": null,
   "metadata": {},
   "outputs": [],
   "source": []
  },
  {
   "cell_type": "code",
   "execution_count": null,
   "metadata": {},
   "outputs": [],
   "source": [
    "############"
   ]
  },
  {
   "cell_type": "code",
   "execution_count": null,
   "metadata": {},
   "outputs": [],
   "source": [
    "columns = ['session', 'area1', 'area2', 'r2']\n",
    "data = []\n",
    "for sess_no in session :\n",
    "    #print(sess_no)\n",
    "    directory = summary_path +sess_no+'/'\n",
    "\n",
    "    label1 = np.load( directory + 'label.npy') # input label\n",
    "    label2 = np.load( directory + 'label.npy') # output label\n",
    "\n",
    "    FC_time_course = np.load( directory + 'FC_all_channels_low'+str(lowcut)+'high'+str(highcut)+'order'+str(order)+'_all_intervals.npy')\n",
    "    FC= np.mean(FC_time_course, axis = 2)\n",
    "    for i in range(len(label1)):\n",
    "        for j in range(len(label2)):\n",
    "            if i!=j: # don't keep electrode to the same electrode\n",
    "                data.append([sess_no, label1[i], label2[j], FC[i,j]])"
   ]
  },
  {
   "cell_type": "code",
   "execution_count": null,
   "metadata": {},
   "outputs": [],
   "source": [
    "df_all_r2 = pd.DataFrame(data, columns=columns)\n",
    "\n"
   ]
  },
  {
   "cell_type": "code",
   "execution_count": null,
   "metadata": {},
   "outputs": [],
   "source": [
    "#############"
   ]
  },
  {
   "cell_type": "code",
   "execution_count": null,
   "metadata": {},
   "outputs": [],
   "source": [
    "acc = df_all_r2.copy()\n",
    "#acc['N'] = 1\n",
    "# mean for each session\n",
    "acc = df_all_r2.groupby(['session', 'area1', 'area2']).agg({\n",
    "    'r2': np.mean,\n",
    "}).reset_index()"
   ]
  },
  {
   "cell_type": "code",
   "execution_count": null,
   "metadata": {},
   "outputs": [],
   "source": [
    "# mean on session\n",
    "acc['n_session_available'] = 1\n",
    "acc = acc.groupby(['area1', 'area2']).agg({\n",
    "    'r2': np.mean,\n",
    "    'n_session_available': 'count',\n",
    "}).reset_index()"
   ]
  },
  {
   "cell_type": "code",
   "execution_count": null,
   "metadata": {},
   "outputs": [],
   "source": [
    "# add cortex information\n",
    "dico_area_to_cortex = get_dico_area_to_cortex()\n",
    "acc['cortex1'] = acc.apply(lambda row : dico_area_to_cortex[row.area1], axis=1)\n",
    "acc['cortex2'] = acc.apply(lambda row : dico_area_to_cortex[row.area2], axis=1)"
   ]
  },
  {
   "cell_type": "code",
   "execution_count": 34,
   "metadata": {},
   "outputs": [],
   "source": [
    "len( acc[(acc['r2']>0.05) & (acc['n_session_available']> 5)].values )"
   ]
  },
  {
   "cell_type": "code",
   "execution_count": null,
   "metadata": {},
   "outputs": [],
   "source": [
    "acc.sort_values(['cortex1', 'cortex2', 'area1','area2'], inplace=True)"
   ]
  },
  {
   "cell_type": "code",
   "execution_count": 9,
   "metadata": {},
   "outputs": [],
   "source": [
    "####################"
   ]
  },
  {
   "cell_type": "code",
   "execution_count": null,
   "metadata": {},
   "outputs": [],
   "source": []
  },
  {
   "cell_type": "code",
   "execution_count": null,
   "metadata": {},
   "outputs": [],
   "source": []
  },
  {
   "cell_type": "code",
   "execution_count": null,
   "metadata": {},
   "outputs": [],
   "source": []
  },
  {
   "cell_type": "code",
   "execution_count": null,
   "metadata": {},
   "outputs": [],
   "source": [
    "\n",
    "\n",
    "for cortex1 in ['Visual', 'Prefrontal', 'Parietal', 'Motor', 'Somatosensory'] :\n",
    "    for cortex2 in ['Visual', 'Prefrontal', 'Parietal', 'Motor', 'Somatosensory'] :\n",
    "        \n",
    "        areas1 = acc[(acc['cortex1'] ==cortex1) & (acc['cortex2'] == cortex2)]['area1'].unique()\n",
    "        areas2 = acc[(acc['cortex1'] ==cortex1) & (acc['cortex2'] == cortex2)]['area2'].unique()\n",
    "        \n",
    "        for area1 in areas1:\n",
    "            for area2 in areas2 :\n",
    "                \n",
    "                # plot time_course\n",
    "                fig, axarr = plt.subplots(nrows=2, ncols=2, sharex=True, sharey=True, figsize=(15,5))\n",
    "                \n",
    "                \n",
    "                # align_on = 'sample'\n",
    "                align_on = 'sample'\n",
    "                \n",
    "                FC_time_course_mean = 0\n",
    "                N = 0            \n",
    "                    \n",
    "                for sess_no in session :\n",
    "                    directory = summary_path +sess_no+'/'\n",
    "                    \n",
    "                    # load time course\n",
    "                    FC_time_course = directory + 'FC_all_channels_low'+str(lowcut)+'high'+str(highcut)+'order'+str(order)+'_all_intervals.npy'\n",
    "                    label = directory + 'label.npy'\n",
    "                    time = directory + 'time.npy'\n",
    "                    \n",
    "                    # select idx\n",
    "                    ind1 = (label==area1)\n",
    "                    ind2 = (label==area2)\n",
    "                    \n",
    "                    ind3 = [ el.split('_')[2]==align_on for el in time]\n",
    "                    \n",
    "                    # drop if not available\n",
    "                    if np.sum(ind1) == 0 or np.sum(ind2) == 0 or  np.sum(ind3) == 0 :\n",
    "                        continue\n",
    "                        \n",
    "                    if area1 == area2:\n",
    "                        # only one electrode is available \n",
    "                        if np.sum(ind1) ==1 and np.sum(ind2)==1:\n",
    "                            continue\n",
    "                            \n",
    "                                            \n",
    "                    # select it\n",
    "                    FC_time_course = FC_time_course[ind1,:,:]\n",
    "                    FC_time_course = FC_time_course[:,ind2,:]\n",
    "                    FC_time_course = FC_time_course[:,:,ind3]\n",
    "                    \n",
    "                    time = time[ind3]\n",
    "                    \n",
    "                    \n",
    "                    # plot all time course        \n",
    "                    time_label = [ (float(re.findall('\\d+', el)[0])+float(re.findall('\\d+', el)[1]))/2 for el in time ]\n",
    "                    \n",
    "                    axarr[0, 0].plot(time, np.round( FC_time_course.reshape((-1, FC_time_course.shape[2])).T , 3))\n",
    "                    #axarr[0, 0].plot(time, FC_time_course.reshape((-1, FC_time_course.shape[2])).T , 3)\n",
    "                    \n",
    "                    # Calculate the mean\n",
    "                    if area1 != area2 :\n",
    "                        N += 1\n",
    "                        FC_time_course_mean += np.mean(FC_time_course)\n",
    "                        \n",
    "                    else:\n",
    "                        N += 1\n",
    "                        # don't take in count prediction to the same electrode\n",
    "                        FC_time_course_mean += np.mean(FC_time_course_mean) - np.mean(np.diagonal(FC, axis1=0, axis2=1), axis=1)\n",
    "                        \n",
    "                axarr[1, 0].plot(time_label, FC_time_course_mean/N)\n",
    "                \n",
    "                # align_on == 'match'           \n",
    "                align_on = 'match'\n",
    "                FC_time_course_mean = 0\n",
    "                N = 0            \n",
    "                    \n",
    "                for sess_no in session :\n",
    "                    directory = summary_path +sess_no+'/'\n",
    "                    \n",
    "                    # load time course\n",
    "                    FC_time_course = directory + 'FC_all_channels_low'+str(lowcut)+'high'+str(highcut)+'order'+str(order)+'_all_intervals.npy'\n",
    "                    label = directory + 'label.npy'\n",
    "                    time = directory + 'time.npy'\n",
    "                    \n",
    "                    # select idx\n",
    "                    ind1 = (label==area1)\n",
    "                    ind2 = (label==area2)\n",
    "                    ind3 = [ el.split('_')[2]==align_on for el in time]\n",
    "                    \n",
    "                    # drop if not available\n",
    "                    if np.sum(ind1) == 0 or np.sum(ind2) == 0 or  np.sum(ind3) == 0 :\n",
    "                        continue\n",
    "                        \n",
    "                    if area1 == area2:\n",
    "                        # only one electrode is available \n",
    "                        if np.sum(ind1) ==1 and np.sum(ind2)==1:\n",
    "                            continue\n",
    "                            \n",
    "                                            \n",
    "                    # select it\n",
    "                    FC_time_course = FC_time_course[ind1,:,:]\n",
    "                    FC_time_course = FC_time_course[:,ind2,:]\n",
    "                    FC_time_course = FC_time_course[:,:,ind3]\n",
    "                    \n",
    "                    time = time[ind3]\n",
    "                    \n",
    "                    \n",
    "                    # plot all time course        \n",
    "                    time_label = [ (float(re.findall('\\d+', el)[0])+float(re.findall('\\d+', el)[1]))/2 for el in time ]\n",
    "                    \n",
    "                    axarr[0, 1].plot(time, np.round( FC_time_course.reshape((-1, FC_time_course.shape[2])).T , 3))\n",
    "                    #axarr[0, 0].plot(time, FC_time_course.reshape((-1, FC_time_course.shape[2])).T , 3)\n",
    "                    \n",
    "                    # Calculate the mean\n",
    "                    if area1 != area2 :\n",
    "                        N += 1\n",
    "                        FC_time_course_mean += np.mean(FC_time_course)\n",
    "                        \n",
    "                    else:\n",
    "                        N += 1\n",
    "                        # don't take in count prediction to the same electrode\n",
    "                        FC_time_course_mean += np.mean(FC_time_course_mean) - np.mean(np.diagonal(FC, axis1=0, axis2=1), axis=1)\n",
    "                        \n",
    "                axarr[1, 1].plot(time_label, FC_time_course_mean/N)\n",
    "                \n",
    "                \n",
    "                axarr[1].plot(time, FC_time_course_mean/N)\n",
    "\n",
    "                # set legend, etc\n",
    "                fig.suptitle(area1, ' to ', area2)\n",
    "                # \n",
    "                axarr[0, 0].axvline(x= 0, color='r',label='sample on')\n",
    "                axarr[0, 0].axvline(x= 500, color='r', linestyle='--',label='sample off')\n",
    "                axarr[0, 0].legend()\n",
    "                axarr[0, 0].set_title('all time course')\n",
    "                \n",
    "                ###\n",
    "                axarr[1, 0].axvline(x= 0, color='r',label='sample on')\n",
    "                axarr[1, 0].axvline(x= 500, color='r', linestyle='--',label='sample off')\n",
    "                axarr[1, 0].legend()\n",
    "                axarr[1, 0].set_title('mean')\n",
    "                \n",
    "                ###\n",
    "                axarr[0, 1].axvline(x= 0, color='r',label='match on')\n",
    "                axarr[0, 1].legend()\n",
    "                axarr[0, 1].set_title('all time course')\n",
    "                \n",
    "                ###\n",
    "                axarr[1, 1].axvline(x= 0, color='r',label='match on')\n",
    "\n",
    "                axarr[1, 1].legend()\n",
    "                axarr[1, 1].set_title('mean')\n",
    "\n",
    "                plt.show()\n",
    "                \n",
    "                "
   ]
  }
 ],
 "metadata": {
  "kernelspec": {
   "display_name": "Python 3",
   "language": "python",
   "name": "python3"
  },
  "language_info": {
   "codemirror_mode": {
    "name": "ipython",
    "version": 3
   },
   "file_extension": ".py",
   "mimetype": "text/x-python",
   "name": "python",
   "nbconvert_exporter": "python",
   "pygments_lexer": "ipython3",
   "version": "3.6.5"
  }
 },
 "nbformat": 4,
 "nbformat_minor": 2
}
